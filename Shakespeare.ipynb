{
  "nbformat": 4,
  "nbformat_minor": 0,
  "metadata": {
    "colab": {
      "provenance": [],
      "gpuType": "T4",
      "mount_file_id": "1vE7SY698w7V_1b04uydwqrNId0VMOT3U",
      "authorship_tag": "ABX9TyOA6DzNlMjlm70Jk9wpQdl9",
      "include_colab_link": true
    },
    "kernelspec": {
      "name": "python3",
      "display_name": "Python 3"
    },
    "language_info": {
      "name": "python"
    },
    "accelerator": "GPU"
  },
  "cells": [
    {
      "cell_type": "markdown",
      "metadata": {
        "id": "view-in-github",
        "colab_type": "text"
      },
      "source": [
        "<a href=\"https://colab.research.google.com/github/semaxspaul/semaxspaul_Shakespeare/blob/main/Shakespeare.ipynb\" target=\"_parent\"><img src=\"https://colab.research.google.com/assets/colab-badge.svg\" alt=\"Open In Colab\"/></a>"
      ]
    },
    {
      "cell_type": "code",
      "execution_count": null,
      "metadata": {
        "id": "c9av66VTBSkP"
      },
      "outputs": [],
      "source": [
        "import numpy as np\n",
        "import pandas as pd\n",
        "import matplotlib.pyplot as plt\n",
        "\n",
        "from sklearn.preprocessing import MinMaxScaler\n",
        "\n",
        "import tensorflow as tf\n",
        "from tensorflow.keras.preprocessing.sequence import TimeseriesGenerator\n",
        "from tensorflow.keras.callbacks import EarlyStopping\n",
        "from tensorflow.keras.models import Sequential\n",
        "from tensorflow.keras.layers import Dense, LSTM, Embedding, GRU\n",
        "from tensorflow.keras.losses import sparse_categorical_crossentropy"
      ]
    },
    {
      "cell_type": "code",
      "source": [
        "path_to_file = '/content/shakespeare.txt'"
      ],
      "metadata": {
        "id": "uR5UWn8wBaDy"
      },
      "execution_count": null,
      "outputs": []
    },
    {
      "cell_type": "code",
      "source": [
        "text = open(path_to_file, 'r').read()"
      ],
      "metadata": {
        "id": "3OudoTDLCU4h"
      },
      "execution_count": null,
      "outputs": []
    },
    {
      "cell_type": "code",
      "source": [
        "vocabulary = sorted(set(text))"
      ],
      "metadata": {
        "id": "y3h-kYXICazP"
      },
      "execution_count": null,
      "outputs": []
    },
    {
      "cell_type": "code",
      "source": [
        "VOCAB_SIZE = len(vocabulary)"
      ],
      "metadata": {
        "id": "qGzusgXSCcb0"
      },
      "execution_count": null,
      "outputs": []
    },
    {
      "cell_type": "code",
      "source": [
        "char_to_ind = {char:ind for ind, char in enumerate(vocabulary)}"
      ],
      "metadata": {
        "id": "KaZfrADmC7Y4"
      },
      "execution_count": null,
      "outputs": []
    },
    {
      "cell_type": "code",
      "source": [
        "ind_to_char = np.array(vocabulary)"
      ],
      "metadata": {
        "id": "BBV0jKVNDpkJ"
      },
      "execution_count": null,
      "outputs": []
    },
    {
      "cell_type": "code",
      "source": [
        "encoded_text = np.array([char_to_ind[c] for c in text])"
      ],
      "metadata": {
        "id": "Q69EmlOPDrIE"
      },
      "execution_count": null,
      "outputs": []
    },
    {
      "cell_type": "code",
      "source": [
        "encoded_text.shape"
      ],
      "metadata": {
        "colab": {
          "base_uri": "https://localhost:8080/"
        },
        "id": "l-mLF6OIEFpp",
        "outputId": "bc80d1f6-2afb-48c5-e613-618fb738afb5"
      },
      "execution_count": null,
      "outputs": [
        {
          "output_type": "execute_result",
          "data": {
            "text/plain": [
              "(5445609,)"
            ]
          },
          "metadata": {},
          "execution_count": 9
        }
      ]
    },
    {
      "cell_type": "code",
      "source": [
        "SEQ_LEN = 120  # Depends on text structure"
      ],
      "metadata": {
        "id": "LaCUae6eE5Gs"
      },
      "execution_count": null,
      "outputs": []
    },
    {
      "cell_type": "code",
      "source": [
        "TOTAL_NUM_SEQ = len(text) // (SEQ_LEN+1)\n",
        "TOTAL_NUM_SEQ"
      ],
      "metadata": {
        "colab": {
          "base_uri": "https://localhost:8080/"
        },
        "id": "SdvUa2G9GBmE",
        "outputId": "4eeb2d10-df66-46bc-e96e-1c626c5f9c52"
      },
      "execution_count": null,
      "outputs": [
        {
          "output_type": "execute_result",
          "data": {
            "text/plain": [
              "45005"
            ]
          },
          "metadata": {},
          "execution_count": 13
        }
      ]
    },
    {
      "cell_type": "code",
      "source": [
        "char_dataset = tf.data.Dataset.from_tensor_slices(encoded_text)"
      ],
      "metadata": {
        "id": "tIcOUDMNGYgZ"
      },
      "execution_count": null,
      "outputs": []
    },
    {
      "cell_type": "code",
      "source": [
        "char_dataset"
      ],
      "metadata": {
        "colab": {
          "base_uri": "https://localhost:8080/"
        },
        "id": "Y8Aq-WRsMxo0",
        "outputId": "e3a1ffec-a7b9-4c9d-ba31-f1e146f68581"
      },
      "execution_count": null,
      "outputs": [
        {
          "output_type": "execute_result",
          "data": {
            "text/plain": [
              "<_TensorSliceDataset element_spec=TensorSpec(shape=(), dtype=tf.int64, name=None)>"
            ]
          },
          "metadata": {},
          "execution_count": 34
        }
      ]
    },
    {
      "cell_type": "code",
      "source": [
        "# for item in char_dataset.take(300):\n",
        "#   print(ind_to_char[item.numpy()])"
      ],
      "metadata": {
        "id": "ei6U5yA3IOv9"
      },
      "execution_count": null,
      "outputs": []
    },
    {
      "cell_type": "code",
      "source": [
        "sequences = char_dataset.batch(SEQ_LEN+1, drop_remainder=True)"
      ],
      "metadata": {
        "id": "Ms48V1KxJX3z"
      },
      "execution_count": null,
      "outputs": []
    },
    {
      "cell_type": "code",
      "source": [
        "sequences"
      ],
      "metadata": {
        "colab": {
          "base_uri": "https://localhost:8080/"
        },
        "id": "LgWv1iKmM1ke",
        "outputId": "63eb2832-372f-4226-9de8-dd4495969243"
      },
      "execution_count": null,
      "outputs": [
        {
          "output_type": "execute_result",
          "data": {
            "text/plain": [
              "<_BatchDataset element_spec=TensorSpec(shape=(121,), dtype=tf.int64, name=None)>"
            ]
          },
          "metadata": {},
          "execution_count": 35
        }
      ]
    },
    {
      "cell_type": "code",
      "source": [
        "def create_seq_targets(seq):\n",
        "  input_txt = seq[:-1] # My name is Pau\n",
        "  target_txt = seq[1:] # y name is Paul\n",
        "  return input_txt, target_txt"
      ],
      "metadata": {
        "id": "HXsKAV0FJxtN"
      },
      "execution_count": null,
      "outputs": []
    },
    {
      "cell_type": "code",
      "source": [
        "dataset = sequences.map(create_seq_targets)"
      ],
      "metadata": {
        "id": "07G-KDWmKkC1"
      },
      "execution_count": null,
      "outputs": []
    },
    {
      "cell_type": "code",
      "source": [
        "for input, target in dataset.take(1):\n",
        "  print(input.numpy())\n",
        "  print(''.join(ind_to_char[input.numpy()]))\n",
        "  print('\\n')\n",
        "  print(target.numpy())\n",
        "  print(''.join(ind_to_char[target.numpy()]))"
      ],
      "metadata": {
        "colab": {
          "base_uri": "https://localhost:8080/"
        },
        "id": "0NV13DkOKvMM",
        "outputId": "196f0e87-5fe3-466b-8115-0775d56376c5"
      },
      "execution_count": null,
      "outputs": [
        {
          "output_type": "stream",
          "name": "stdout",
          "text": [
            "[ 0  1  1  1  1  1  1  1  1  1  1  1  1  1  1  1  1  1  1  1  1  1 12  0\n",
            "  1  1 31 73 70 68  1 61 56 64 73 60 74 75  1 58 73 60 56 75 76 73 60 74\n",
            "  1 78 60  1 59 60 74 64 73 60  1 64 69 58 73 60 56 74 60  8  0  1  1 45\n",
            " 63 56 75  1 75 63 60 73 60 57 80  1 57 60 56 76 75 80  5 74  1 73 70 74\n",
            " 60  1 68 64 62 63 75  1 69 60 77 60 73  1 59 64 60  8  0  1  1 27 76 75]\n",
            "\n",
            "                     1\n",
            "  From fairest creatures we desire increase,\n",
            "  That thereby beauty's rose might never die,\n",
            "  But\n",
            "\n",
            "\n",
            "[ 1  1  1  1  1  1  1  1  1  1  1  1  1  1  1  1  1  1  1  1  1 12  0  1\n",
            "  1 31 73 70 68  1 61 56 64 73 60 74 75  1 58 73 60 56 75 76 73 60 74  1\n",
            " 78 60  1 59 60 74 64 73 60  1 64 69 58 73 60 56 74 60  8  0  1  1 45 63\n",
            " 56 75  1 75 63 60 73 60 57 80  1 57 60 56 76 75 80  5 74  1 73 70 74 60\n",
            "  1 68 64 62 63 75  1 69 60 77 60 73  1 59 64 60  8  0  1  1 27 76 75  1]\n",
            "                     1\n",
            "  From fairest creatures we desire increase,\n",
            "  That thereby beauty's rose might never die,\n",
            "  But \n"
          ]
        }
      ]
    },
    {
      "cell_type": "code",
      "source": [
        "BATCH_SIZE = 128  # Training batch"
      ],
      "metadata": {
        "id": "N_3VpUpdLIjq"
      },
      "execution_count": null,
      "outputs": []
    },
    {
      "cell_type": "code",
      "source": [
        "buffer_size = 10000  # Shuffle only 10000 not whole dataset\n",
        "\n",
        "dataset = dataset.shuffle(buffer_size).batch(BATCH_SIZE, drop_remainder=True)"
      ],
      "metadata": {
        "id": "cDpRkmaiMJYV"
      },
      "execution_count": null,
      "outputs": []
    },
    {
      "cell_type": "code",
      "source": [
        "dataset"
      ],
      "metadata": {
        "colab": {
          "base_uri": "https://localhost:8080/"
        },
        "id": "Sizm57YUM80M",
        "outputId": "d64ec897-2226-4a79-e53a-3a40136f9838"
      },
      "execution_count": null,
      "outputs": [
        {
          "output_type": "execute_result",
          "data": {
            "text/plain": [
              "<_BatchDataset element_spec=(TensorSpec(shape=(128, 120), dtype=tf.int64, name=None), TensorSpec(shape=(128, 120), dtype=tf.int64, name=None))>"
            ]
          },
          "metadata": {},
          "execution_count": 37
        }
      ]
    },
    {
      "cell_type": "code",
      "source": [
        "EMBED_DIM = 64 # Adjustable to VOCAB_SIZE\n",
        "RNN_NEURONS = 1024"
      ],
      "metadata": {
        "id": "SlqVy1_8Nf1s"
      },
      "execution_count": null,
      "outputs": []
    },
    {
      "cell_type": "code",
      "source": [
        "def sparse_cat_loss(y_true, y_pred):\n",
        "  return sparse_categorical_crossentropy(y_true, y_pred, from_logits=True)"
      ],
      "metadata": {
        "id": "T2sX2e_xO079"
      },
      "execution_count": null,
      "outputs": []
    },
    {
      "cell_type": "code",
      "source": [
        "def create_model(vocab_size, embed_dim, rnn_neurons, batch_size):\n",
        "  model = Sequential()\n",
        "\n",
        "  model.add(Embedding(input_dim=vocab_size, output_dim=embed_dim, batch_input_shape=[batch_size, None]))\n",
        "\n",
        "  model.add(GRU(rnn_neurons, return_sequences=True, stateful=True,\n",
        "                recurrent_initializer='glorot_uniform'))\n",
        "  model.add(Dense(vocab_size))\n",
        "\n",
        "  model.compile(optimizer='adam', loss=sparse_cat_loss)\n",
        "\n",
        "  return model"
      ],
      "metadata": {
        "id": "4mC9J7mzM-H7"
      },
      "execution_count": null,
      "outputs": []
    },
    {
      "cell_type": "code",
      "source": [
        "model = create_model(vocab_size=VOCAB_SIZE, embed_dim=EMBED_DIM, rnn_neurons=RNN_NEURONS, batch_size=BATCH_SIZE)"
      ],
      "metadata": {
        "id": "1bKfBR78SgJj"
      },
      "execution_count": null,
      "outputs": []
    },
    {
      "cell_type": "code",
      "source": [
        "model.summary()"
      ],
      "metadata": {
        "colab": {
          "base_uri": "https://localhost:8080/"
        },
        "id": "Q3DjJVQJStG_",
        "outputId": "c1ea83f9-3238-4120-bfa6-2d8281a34288"
      },
      "execution_count": null,
      "outputs": [
        {
          "output_type": "stream",
          "name": "stdout",
          "text": [
            "Model: \"sequential\"\n",
            "_________________________________________________________________\n",
            " Layer (type)                Output Shape              Param #   \n",
            "=================================================================\n",
            " embedding (Embedding)       (128, None, 64)           5376      \n",
            "                                                                 \n",
            " gru (GRU)                   (128, None, 1024)         3348480   \n",
            "                                                                 \n",
            " dense (Dense)               (128, None, 84)           86100     \n",
            "                                                                 \n",
            "=================================================================\n",
            "Total params: 3439956 (13.12 MB)\n",
            "Trainable params: 3439956 (13.12 MB)\n",
            "Non-trainable params: 0 (0.00 Byte)\n",
            "_________________________________________________________________\n"
          ]
        }
      ]
    },
    {
      "cell_type": "code",
      "source": [
        "for input_example_batch, target_example_batch in dataset.take(1):\n",
        "  example_batch_predictions = model(input_example_batch)"
      ],
      "metadata": {
        "id": "U0Hb_O2HSznI"
      },
      "execution_count": null,
      "outputs": []
    },
    {
      "cell_type": "code",
      "source": [
        "example_batch_predictions.shape"
      ],
      "metadata": {
        "colab": {
          "base_uri": "https://localhost:8080/"
        },
        "id": "WOp4HtECT5EV",
        "outputId": "9f088a94-fc78-41e8-8166-80ee1d1d571f"
      },
      "execution_count": null,
      "outputs": [
        {
          "output_type": "execute_result",
          "data": {
            "text/plain": [
              "TensorShape([128, 120, 84])"
            ]
          },
          "metadata": {},
          "execution_count": 54
        }
      ]
    },
    {
      "cell_type": "code",
      "source": [
        "sampled_indices = tf.random.categorical(example_batch_predictions[0], num_samples=1)"
      ],
      "metadata": {
        "id": "gOz5Z0u4T9-5"
      },
      "execution_count": null,
      "outputs": []
    },
    {
      "cell_type": "code",
      "source": [
        "sampled_indices"
      ],
      "metadata": {
        "colab": {
          "base_uri": "https://localhost:8080/"
        },
        "id": "O5PBIKrcUB9q",
        "outputId": "6f27a0b4-1589-4d33-b95a-74b70d9b2f33"
      },
      "execution_count": null,
      "outputs": [
        {
          "output_type": "execute_result",
          "data": {
            "text/plain": [
              "<tf.Tensor: shape=(120, 1), dtype=int64, numpy=\n",
              "array([[17],\n",
              "       [50],\n",
              "       [63],\n",
              "       [56],\n",
              "       [43],\n",
              "       [69],\n",
              "       [35],\n",
              "       [66],\n",
              "       [71],\n",
              "       [33],\n",
              "       [19],\n",
              "       [16],\n",
              "       [65],\n",
              "       [68],\n",
              "       [29],\n",
              "       [43],\n",
              "       [24],\n",
              "       [ 8],\n",
              "       [ 6],\n",
              "       [50],\n",
              "       [74],\n",
              "       [54],\n",
              "       [30],\n",
              "       [25],\n",
              "       [74],\n",
              "       [61],\n",
              "       [11],\n",
              "       [17],\n",
              "       [ 9],\n",
              "       [41],\n",
              "       [12],\n",
              "       [74],\n",
              "       [23],\n",
              "       [56],\n",
              "       [24],\n",
              "       [53],\n",
              "       [65],\n",
              "       [79],\n",
              "       [25],\n",
              "       [ 5],\n",
              "       [ 5],\n",
              "       [75],\n",
              "       [54],\n",
              "       [69],\n",
              "       [29],\n",
              "       [33],\n",
              "       [ 9],\n",
              "       [56],\n",
              "       [75],\n",
              "       [21],\n",
              "       [67],\n",
              "       [13],\n",
              "       [66],\n",
              "       [32],\n",
              "       [23],\n",
              "       [10],\n",
              "       [ 7],\n",
              "       [40],\n",
              "       [46],\n",
              "       [46],\n",
              "       [80],\n",
              "       [12],\n",
              "       [ 1],\n",
              "       [30],\n",
              "       [18],\n",
              "       [63],\n",
              "       [81],\n",
              "       [12],\n",
              "       [48],\n",
              "       [56],\n",
              "       [24],\n",
              "       [19],\n",
              "       [78],\n",
              "       [77],\n",
              "       [68],\n",
              "       [35],\n",
              "       [33],\n",
              "       [83],\n",
              "       [66],\n",
              "       [58],\n",
              "       [82],\n",
              "       [79],\n",
              "       [ 6],\n",
              "       [68],\n",
              "       [35],\n",
              "       [20],\n",
              "       [47],\n",
              "       [29],\n",
              "       [52],\n",
              "       [42],\n",
              "       [33],\n",
              "       [42],\n",
              "       [72],\n",
              "       [78],\n",
              "       [80],\n",
              "       [ 7],\n",
              "       [45],\n",
              "       [14],\n",
              "       [25],\n",
              "       [62],\n",
              "       [31],\n",
              "       [54],\n",
              "       [39],\n",
              "       [27],\n",
              "       [60],\n",
              "       [65],\n",
              "       [81],\n",
              "       [70],\n",
              "       [76],\n",
              "       [67],\n",
              "       [44],\n",
              "       [22],\n",
              "       [45],\n",
              "       [ 1],\n",
              "       [55],\n",
              "       [79],\n",
              "       [37],\n",
              "       [24],\n",
              "       [77],\n",
              "       [76]])>"
            ]
          },
          "metadata": {},
          "execution_count": 66
        }
      ]
    },
    {
      "cell_type": "code",
      "source": [
        "sampled_indices = tf.squeeze(sampled_indices, axis=-1).numpy()"
      ],
      "metadata": {
        "id": "n3uROPUJVhag"
      },
      "execution_count": null,
      "outputs": []
    },
    {
      "cell_type": "code",
      "source": [
        "sampled_indices"
      ],
      "metadata": {
        "colab": {
          "base_uri": "https://localhost:8080/"
        },
        "id": "NTPVubCWWThG",
        "outputId": "beff9d99-139d-4723-8a09-e4ff878a89b2"
      },
      "execution_count": null,
      "outputs": [
        {
          "output_type": "execute_result",
          "data": {
            "text/plain": [
              "array([17, 50, 63, 56, 43, 69, 35, 66, 71, 33, 19, 16, 65, 68, 29, 43, 24,\n",
              "        8,  6, 50, 74, 54, 30, 25, 74, 61, 11, 17,  9, 41, 12, 74, 23, 56,\n",
              "       24, 53, 65, 79, 25,  5,  5, 75, 54, 69, 29, 33,  9, 56, 75, 21, 67,\n",
              "       13, 66, 32, 23, 10,  7, 40, 46, 46, 80, 12,  1, 30, 18, 63, 81, 12,\n",
              "       48, 56, 24, 19, 78, 77, 68, 35, 33, 83, 66, 58, 82, 79,  6, 68, 35,\n",
              "       20, 47, 29, 52, 42, 33, 42, 72, 78, 80,  7, 45, 14, 25, 62, 31, 54,\n",
              "       39, 27, 60, 65, 81, 70, 76, 67, 44, 22, 45,  1, 55, 79, 37, 24, 77,\n",
              "       76])"
            ]
          },
          "metadata": {},
          "execution_count": 68
        }
      ]
    },
    {
      "cell_type": "code",
      "source": [
        "ind_to_char[sampled_indices]"
      ],
      "metadata": {
        "colab": {
          "base_uri": "https://localhost:8080/"
        },
        "id": "YORQvxJHWUwU",
        "outputId": "8bfbe414-31ab-4526-f858-2cba5c33aa1e"
      },
      "execution_count": null,
      "outputs": [
        {
          "output_type": "execute_result",
          "data": {
            "text/plain": [
              "array(['6', 'Y', 'h', 'a', 'R', 'n', 'J', 'k', 'p', 'H', '8', '5', 'j',\n",
              "       'm', 'D', 'R', '>', ',', '(', 'Y', 's', '_', 'E', '?', 's', 'f',\n",
              "       '0', '6', '-', 'P', '1', 's', '<', 'a', '>', ']', 'j', 'x', '?',\n",
              "       \"'\", \"'\", 't', '_', 'n', 'D', 'H', '-', 'a', 't', ':', 'l', '2',\n",
              "       'k', 'G', '<', '.', ')', 'O', 'U', 'U', 'y', '1', ' ', 'E', '7',\n",
              "       'h', 'z', '1', 'W', 'a', '>', '8', 'w', 'v', 'm', 'J', 'H', '}',\n",
              "       'k', 'c', '|', 'x', '(', 'm', 'J', '9', 'V', 'D', '[', 'Q', 'H',\n",
              "       'Q', 'q', 'w', 'y', ')', 'T', '3', '?', 'g', 'F', '_', 'N', 'B',\n",
              "       'e', 'j', 'z', 'o', 'u', 'l', 'S', ';', 'T', ' ', '`', 'x', 'L',\n",
              "       '>', 'v', 'u'], dtype='<U1')"
            ]
          },
          "metadata": {},
          "execution_count": 69
        }
      ]
    },
    {
      "cell_type": "code",
      "source": [
        "epochs = 10\n",
        "model.fit(dataset, epochs=epochs)"
      ],
      "metadata": {
        "colab": {
          "base_uri": "https://localhost:8080/"
        },
        "id": "GDqZGtqaWhzs",
        "outputId": "ec790c5d-6402-4916-dc82-411ce1ee45d5"
      },
      "execution_count": null,
      "outputs": [
        {
          "output_type": "stream",
          "name": "stdout",
          "text": [
            "Epoch 1/10\n",
            "351/351 [==============================] - 39s 106ms/step - loss: 2.4960\n",
            "Epoch 2/10\n",
            "351/351 [==============================] - 39s 104ms/step - loss: 1.7097\n",
            "Epoch 3/10\n",
            "351/351 [==============================] - 40s 105ms/step - loss: 1.4450\n",
            "Epoch 4/10\n",
            "351/351 [==============================] - 39s 106ms/step - loss: 1.3309\n",
            "Epoch 5/10\n",
            "351/351 [==============================] - 40s 107ms/step - loss: 1.2708\n",
            "Epoch 6/10\n",
            "351/351 [==============================] - 41s 109ms/step - loss: 1.2318\n",
            "Epoch 7/10\n",
            "351/351 [==============================] - 41s 109ms/step - loss: 1.2027\n",
            "Epoch 8/10\n",
            "351/351 [==============================] - 41s 110ms/step - loss: 1.1791\n",
            "Epoch 9/10\n",
            "351/351 [==============================] - 41s 109ms/step - loss: 1.1596\n",
            "Epoch 10/10\n",
            "351/351 [==============================] - 41s 109ms/step - loss: 1.1419\n"
          ]
        },
        {
          "output_type": "execute_result",
          "data": {
            "text/plain": [
              "<keras.src.callbacks.History at 0x7816921a1540>"
            ]
          },
          "metadata": {},
          "execution_count": 71
        }
      ]
    },
    {
      "cell_type": "code",
      "source": [
        "model.save('/content/drive/MyDrive/shakespeare')"
      ],
      "metadata": {
        "id": "ZG_hBQf4YkQO"
      },
      "execution_count": null,
      "outputs": []
    },
    {
      "cell_type": "code",
      "source": [
        "model_two = create_model(vocab_size=VOCAB_SIZE, embed_dim=EMBED_DIM, rnn_neurons=RNN_NEURONS, batch_size=1)\n",
        "\n",
        "model_two.load_weights('/content/drive/MyDrive/shakespeare')\n",
        "\n",
        "model_two.build(tf.TensorShape([1, None]))"
      ],
      "metadata": {
        "id": "qUykvZuUYsKT"
      },
      "execution_count": null,
      "outputs": []
    },
    {
      "cell_type": "code",
      "source": [
        "model_two.summary()"
      ],
      "metadata": {
        "colab": {
          "base_uri": "https://localhost:8080/"
        },
        "id": "Fu6dGHBsZi5k",
        "outputId": "dd479aca-c247-413e-e53b-077ab13f46ea"
      },
      "execution_count": null,
      "outputs": [
        {
          "output_type": "stream",
          "name": "stdout",
          "text": [
            "Model: \"sequential_2\"\n",
            "_________________________________________________________________\n",
            " Layer (type)                Output Shape              Param #   \n",
            "=================================================================\n",
            " embedding_2 (Embedding)     (1, None, 64)             5376      \n",
            "                                                                 \n",
            " gru_2 (GRU)                 (1, None, 1024)           3348480   \n",
            "                                                                 \n",
            " dense_2 (Dense)             (1, None, 84)             86100     \n",
            "                                                                 \n",
            "=================================================================\n",
            "Total params: 3439956 (13.12 MB)\n",
            "Trainable params: 3439956 (13.12 MB)\n",
            "Non-trainable params: 0 (0.00 Byte)\n",
            "_________________________________________________________________\n"
          ]
        }
      ]
    },
    {
      "cell_type": "code",
      "source": [
        "def generate_text(model, start_seed, gen_size=500, temp=1.0):\n",
        "  num_generate = gen_size\n",
        "\n",
        "  input_eval = [char_to_ind[s] for s in start_seed]\n",
        "  input_eval = tf.expand_dims(input_eval, 0)\n",
        "\n",
        "  text_generated = []\n",
        "  temperature = temp\n",
        "\n",
        "  model.reset_states()\n",
        "\n",
        "  for i in range(num_generate):\n",
        "    predictions = model(input_eval)\n",
        "    predictions = tf.squeeze(predictions, 0)\n",
        "\n",
        "    predictions = predictions/temperature\n",
        "\n",
        "    predicted_id = tf.random.categorical(predictions, num_samples=1)[-1, 0].numpy()\n",
        "\n",
        "    input_eval = tf.expand_dims([predicted_id], 0)\n",
        "\n",
        "    text_generated.append(ind_to_char[predicted_id])\n",
        "\n",
        "  return (start_seed + ''.join(text_generated))"
      ],
      "metadata": {
        "id": "zZWzi_sOWxyR"
      },
      "execution_count": null,
      "outputs": []
    },
    {
      "cell_type": "code",
      "source": [
        "print(generate_text(model_two, 'PAUL', gen_size=1000))"
      ],
      "metadata": {
        "colab": {
          "base_uri": "https://localhost:8080/"
        },
        "id": "XlUVsyc9dSij",
        "outputId": "8a5514d5-cd10-4476-ad96-41a28b00aeca"
      },
      "execution_count": null,
      "outputs": [
        {
          "output_type": "stream",
          "name": "stdout",
          "text": [
            "PAULYNET, DUKE OF YORK and the DUKE OF CLARENCE, and all\n",
            "    And swemp'red desert, and laughter trusts\n",
            "    The chase of my effect.\n",
            "    That nothing only guest not what Valentine,\n",
            "    And there is nurs are punited unto me;\n",
            "    Here is a fool; all of your nupling beat\n",
            "    Art prais'd the fortune venved,\n",
            "    Or at, the Our parl; which shall not yield\n",
            "    Writin to th' crums. This you shall shake thy.\n",
            "  ANTIGONUS. I am too guest;\n",
            "    For we have an ear may here it,\n",
            "    Or, ave all deed of purpose crivet                    [HORTENSIO] What have I, Thomas Hortensio?\n",
            "  PAULINA.'Sice.\n",
            "  EVANS. Could I, behold? Say, what a school by him?\n",
            "  FIRST SENATOR. Cassio's uncle, A found room is names,\n",
            "    But give up they were not as freshared,\n",
            "     That cert's a strange own steady paper.\n",
            "          Dies particular:\n",
            "    His liegens winter and unless his flack!\n",
            "  Friar. Faith, not for thy quanity! I can see\n",
            "    I charge thee to Miton Antepory.\n",
            "  BEROWNE. Fair father; any that you have at honestly\n",
            "    Thou did\n"
          ]
        }
      ]
    },
    {
      "cell_type": "code",
      "source": [],
      "metadata": {
        "id": "aDs6MYWadjR_"
      },
      "execution_count": null,
      "outputs": []
    }
  ]
}